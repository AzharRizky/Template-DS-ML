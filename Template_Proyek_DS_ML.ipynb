{
  "nbformat": 4,
  "nbformat_minor": 0,
  "metadata": {
    "colab": {
      "provenance": []
    },
    "kernelspec": {
      "name": "python3",
      "display_name": "Python 3"
    },
    "language_info": {
      "name": "python"
    },
    "accelerator": "GPU"
  },
  "cells": [
    {
      "cell_type": "markdown",
      "source": [
        "# **Judul Proyek**\n",
        "\n",
        "Dataset: link dataset"
      ],
      "metadata": {
        "id": "rLoGRKCP4mU7"
      }
    },
    {
      "cell_type": "markdown",
      "source": [
        "# Pendahuluan\n",
        "\n",
        "Penjelasan Singkat dari Tema Proyek yang dikerjakan"
      ],
      "metadata": {
        "id": "qXiFKz1VFvQW"
      }
    },
    {
      "cell_type": "markdown",
      "source": [
        "# Data Loading\n",
        "## Import Library"
      ],
      "metadata": {
        "id": "H686ynaGGGnU"
      }
    },
    {
      "cell_type": "code",
      "source": [],
      "metadata": {
        "id": "tTdzSBDG3bui"
      },
      "execution_count": 2,
      "outputs": []
    },
    {
      "cell_type": "code",
      "execution_count": 2,
      "metadata": {
        "id": "AiL_mZ4MvlIq"
      },
      "outputs": [],
      "source": []
    },
    {
      "cell_type": "code",
      "source": [],
      "metadata": {
        "id": "Fi2pnRQr2tX7"
      },
      "execution_count": 2,
      "outputs": []
    },
    {
      "cell_type": "code",
      "source": [],
      "metadata": {
        "id": "wyTUH_wg2xBS"
      },
      "execution_count": 2,
      "outputs": []
    },
    {
      "cell_type": "code",
      "source": [],
      "metadata": {
        "id": "WwFNiqRm2yFY"
      },
      "execution_count": 2,
      "outputs": []
    },
    {
      "cell_type": "code",
      "source": [],
      "metadata": {
        "id": "puBlD1-E3BUb"
      },
      "execution_count": 2,
      "outputs": []
    },
    {
      "cell_type": "code",
      "source": [],
      "metadata": {
        "id": "9gcTlC9Q3ND7"
      },
      "execution_count": 2,
      "outputs": []
    },
    {
      "cell_type": "markdown",
      "source": [
        "# Exploratory Data Analysis\n",
        "## Deskripsi Variabel\n",
        "*   Deskripsi setiap variabel dari setiap kolom data beserta penjelasan singkatnya"
      ],
      "metadata": {
        "id": "lCroD9J6GmNV"
      }
    },
    {
      "cell_type": "code",
      "source": [],
      "metadata": {
        "id": "OhmBack16ZQs"
      },
      "execution_count": 2,
      "outputs": []
    },
    {
      "cell_type": "code",
      "source": [],
      "metadata": {
        "id": "97eQw8paOhw-"
      },
      "execution_count": 2,
      "outputs": []
    },
    {
      "cell_type": "code",
      "source": [],
      "metadata": {
        "id": "MTqkKDdaE_61"
      },
      "execution_count": 2,
      "outputs": []
    },
    {
      "cell_type": "code",
      "source": [],
      "metadata": {
        "id": "OBpl1FM16q41"
      },
      "execution_count": 2,
      "outputs": []
    },
    {
      "cell_type": "code",
      "source": [],
      "metadata": {
        "id": "WJ4x7-VI6xvl"
      },
      "execution_count": 2,
      "outputs": []
    },
    {
      "cell_type": "code",
      "source": [],
      "metadata": {
        "id": "O_0XUKJO64ut"
      },
      "execution_count": 2,
      "outputs": []
    },
    {
      "cell_type": "markdown",
      "source": [
        "## Menangani Missing Value dan Outlier"
      ],
      "metadata": {
        "id": "QE6AdnsHJmwY"
      }
    },
    {
      "cell_type": "markdown",
      "source": [
        "Penjelasan singkat dari output data"
      ],
      "metadata": {
        "id": "i2xGanrYI618"
      }
    },
    {
      "cell_type": "code",
      "source": [],
      "metadata": {
        "id": "M611Zq5yIs_T"
      },
      "execution_count": 2,
      "outputs": []
    },
    {
      "cell_type": "markdown",
      "source": [
        "Penjelasan singkat lanjutan"
      ],
      "metadata": {
        "id": "ECuPQRmVJsnm"
      }
    },
    {
      "cell_type": "code",
      "source": [],
      "metadata": {
        "id": "UkNGCKF-Kg--"
      },
      "execution_count": 2,
      "outputs": []
    },
    {
      "cell_type": "markdown",
      "source": [
        "Penjelasan grafik/illustrasi jika terdapat grafik/illustrasi"
      ],
      "metadata": {
        "id": "wTfuyYnTlyfz"
      }
    },
    {
      "cell_type": "code",
      "source": [],
      "metadata": {
        "id": "2BfGdwIAMOOh"
      },
      "execution_count": 2,
      "outputs": []
    },
    {
      "cell_type": "markdown",
      "source": [
        "Penjelasan lain terkait kode diatas"
      ],
      "metadata": {
        "id": "gluazUvLqsyz"
      }
    },
    {
      "cell_type": "markdown",
      "source": [
        "## Univariate Analysis\n",
        "\n",
        "Penjelasan ketika melakukan univariate analisis pada data."
      ],
      "metadata": {
        "id": "uGMCttzxN6JF"
      }
    },
    {
      "cell_type": "code",
      "source": [],
      "metadata": {
        "id": "DJL5EJZpNjom"
      },
      "execution_count": 2,
      "outputs": []
    },
    {
      "cell_type": "markdown",
      "source": [
        "Penjelasan lain jika terdapat grafik/illustrasi"
      ],
      "metadata": {
        "id": "_fnWtiXPahTw"
      }
    },
    {
      "cell_type": "markdown",
      "source": [
        "## Multivariate Analysis\n",
        "\n",
        "Penjelasan univariate analysis"
      ],
      "metadata": {
        "id": "9Z0S-sFtbPif"
      }
    },
    {
      "cell_type": "code",
      "source": [],
      "metadata": {
        "id": "7LEvpxU7a51f"
      },
      "execution_count": 2,
      "outputs": []
    },
    {
      "cell_type": "markdown",
      "source": [
        "Penjelasan Ilusstrasi"
      ],
      "metadata": {
        "id": "zkpr-9NQb70A"
      }
    },
    {
      "cell_type": "code",
      "source": [],
      "metadata": {
        "id": "dQ-6phRmcNnn"
      },
      "execution_count": 2,
      "outputs": []
    },
    {
      "cell_type": "markdown",
      "source": [
        "Penjelasan Illustrasi lain"
      ],
      "metadata": {
        "id": "uTtVo4U5chx_"
      }
    },
    {
      "cell_type": "markdown",
      "source": [
        "## Data Preparation\n",
        "\n",
        "### Train Test Split\n"
      ],
      "metadata": {
        "id": "H1l0d6eEdPev"
      }
    },
    {
      "cell_type": "code",
      "source": [],
      "metadata": {
        "id": "4GENH6tm7TmX"
      },
      "execution_count": 2,
      "outputs": []
    },
    {
      "cell_type": "code",
      "source": [],
      "metadata": {
        "id": "Fg_y8TO0llwg"
      },
      "execution_count": 2,
      "outputs": []
    },
    {
      "cell_type": "code",
      "source": [],
      "metadata": {
        "id": "vz4kZ7gZmHZV"
      },
      "execution_count": 2,
      "outputs": []
    },
    {
      "cell_type": "markdown",
      "source": [
        "### Standarisasi\n",
        "\n",
        "Melakukan Standarisasi pada data Training dan Testing"
      ],
      "metadata": {
        "id": "Q896gjqinjEh"
      }
    },
    {
      "cell_type": "code",
      "source": [],
      "metadata": {
        "id": "ITydh00Tmzzk"
      },
      "execution_count": 2,
      "outputs": []
    },
    {
      "cell_type": "markdown",
      "source": [
        "## Model Development"
      ],
      "metadata": {
        "id": "YdgayYluwBEs"
      }
    },
    {
      "cell_type": "code",
      "source": [],
      "metadata": {
        "id": "WdvYtG5JvWbU"
      },
      "execution_count": 2,
      "outputs": []
    },
    {
      "cell_type": "markdown",
      "source": [
        "### Nama Model 1"
      ],
      "metadata": {
        "id": "SDXU882R2rRT"
      }
    },
    {
      "cell_type": "code",
      "source": [],
      "metadata": {
        "id": "40Qx6c0s2Y3z"
      },
      "execution_count": 2,
      "outputs": []
    },
    {
      "cell_type": "markdown",
      "source": [
        "### Nama Model 2"
      ],
      "metadata": {
        "id": "yntZ_OaH6A4B"
      }
    },
    {
      "cell_type": "code",
      "source": [],
      "metadata": {
        "id": "5Vasig4l56-T"
      },
      "execution_count": 2,
      "outputs": []
    },
    {
      "cell_type": "markdown",
      "source": [
        "### Nama Model 3"
      ],
      "metadata": {
        "id": "XH3jjn536ZeT"
      }
    },
    {
      "cell_type": "code",
      "source": [],
      "metadata": {
        "id": "OQNZCGi_6Yt3"
      },
      "execution_count": 2,
      "outputs": []
    },
    {
      "cell_type": "markdown",
      "source": [
        "## Evaluasi Model\n",
        "\n",
        "### Penjelasan singkat evaluasi yang digunakan"
      ],
      "metadata": {
        "id": "Vhx-ZdJzgi9p"
      }
    },
    {
      "cell_type": "code",
      "source": [],
      "metadata": {
        "id": "69uX0S7x66w8"
      },
      "execution_count": 2,
      "outputs": []
    },
    {
      "cell_type": "code",
      "source": [],
      "metadata": {
        "id": "OKahzY-39wCE"
      },
      "execution_count": 2,
      "outputs": []
    },
    {
      "cell_type": "markdown",
      "source": [
        "Penjelasan Illustrasi"
      ],
      "metadata": {
        "id": "u0lRBjgKlCZN"
      }
    },
    {
      "cell_type": "markdown",
      "source": [
        "### Menghitung nilai akurasi model"
      ],
      "metadata": {
        "id": "faXNV8Jrh9ya"
      }
    },
    {
      "cell_type": "code",
      "source": [],
      "metadata": {
        "id": "rqwgjsHx95eX"
      },
      "execution_count": 2,
      "outputs": []
    },
    {
      "cell_type": "code",
      "source": [],
      "metadata": {
        "id": "ZkV4K7dBjXK0"
      },
      "execution_count": 2,
      "outputs": []
    },
    {
      "cell_type": "markdown",
      "source": [
        "Penjelasan dari hasil evaluasi"
      ],
      "metadata": {
        "id": "Jwt3aEbokQHd"
      }
    },
    {
      "cell_type": "code",
      "source": [],
      "metadata": {
        "id": "jQhjr3gomjRr"
      },
      "execution_count": 2,
      "outputs": []
    },
    {
      "cell_type": "code",
      "source": [],
      "metadata": {
        "id": "4DsGKXDO8Ji_"
      },
      "execution_count": 2,
      "outputs": []
    },
    {
      "cell_type": "code",
      "source": [],
      "metadata": {
        "id": "472D1a6F9UFW"
      },
      "execution_count": 2,
      "outputs": []
    },
    {
      "cell_type": "markdown",
      "source": [
        "Penjelasan Data/Table"
      ],
      "metadata": {
        "id": "_y5afHRno8lM"
      }
    },
    {
      "cell_type": "markdown",
      "source": [
        "## Penutup\n",
        "\n",
        "Berisi Kesimpulan dari proyek yang dikerjakan"
      ],
      "metadata": {
        "id": "o-DJSimGznQe"
      }
    }
  ]
}